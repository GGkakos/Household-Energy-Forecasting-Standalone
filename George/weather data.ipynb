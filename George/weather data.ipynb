{
 "cells": [
  {
   "cell_type": "code",
   "execution_count": 1,
   "metadata": {},
   "outputs": [],
   "source": [
    "import pandas as pd"
   ]
  },
  {
   "cell_type": "code",
   "execution_count": 16,
   "metadata": {},
   "outputs": [],
   "source": [
    "weather_data = pd.read_csv('Data/auxiliarydata/forecast/forecast.csv.gz', compression='gzip', delimiter='\\t', parse_dates=['dateforecastfor', 'dateforecastmade'], index_col='dateforecastfor')"
   ]
  },
  {
   "cell_type": "code",
   "execution_count": 17,
   "metadata": {},
   "outputs": [
    {
     "data": {
      "text/html": [
       "<div>\n",
       "<style scoped>\n",
       "    .dataframe tbody tr th:only-of-type {\n",
       "        vertical-align: middle;\n",
       "    }\n",
       "\n",
       "    .dataframe tbody tr th {\n",
       "        vertical-align: top;\n",
       "    }\n",
       "\n",
       "    .dataframe thead th {\n",
       "        text-align: right;\n",
       "    }\n",
       "</style>\n",
       "<table border=\"1\" class=\"dataframe\">\n",
       "  <thead>\n",
       "    <tr style=\"text-align: right;\">\n",
       "      <th></th>\n",
       "      <th>locationid</th>\n",
       "      <th>dateforecastmade</th>\n",
       "      <th>maxtemp</th>\n",
       "      <th>mintemp</th>\n",
       "      <th>tempunit</th>\n",
       "      <th>conditions</th>\n",
       "      <th>conditionsicon</th>\n",
       "    </tr>\n",
       "    <tr>\n",
       "      <th>dateforecastfor</th>\n",
       "      <th></th>\n",
       "      <th></th>\n",
       "      <th></th>\n",
       "      <th></th>\n",
       "      <th></th>\n",
       "      <th></th>\n",
       "      <th></th>\n",
       "    </tr>\n",
       "  </thead>\n",
       "  <tbody>\n",
       "    <tr>\n",
       "      <th>2016-08-10</th>\n",
       "      <td>Edinburgh</td>\n",
       "      <td>2016-08-10</td>\n",
       "      <td>13</td>\n",
       "      <td>12</td>\n",
       "      <td>C</td>\n",
       "      <td>Rain</td>\n",
       "      <td>http://icons.wxug.com/i/c/k/rain.gif</td>\n",
       "    </tr>\n",
       "    <tr>\n",
       "      <th>2016-08-11</th>\n",
       "      <td>Edinburgh</td>\n",
       "      <td>2016-08-11</td>\n",
       "      <td>17</td>\n",
       "      <td>14</td>\n",
       "      <td>C</td>\n",
       "      <td>Chance of Rain</td>\n",
       "      <td>http://icons.wxug.com/i/c/k/chancerain.gif</td>\n",
       "    </tr>\n",
       "    <tr>\n",
       "      <th>2016-08-12</th>\n",
       "      <td>Edinburgh</td>\n",
       "      <td>2016-08-12</td>\n",
       "      <td>17</td>\n",
       "      <td>12</td>\n",
       "      <td>C</td>\n",
       "      <td>Chance of Rain</td>\n",
       "      <td>http://icons.wxug.com/i/c/k/chancerain.gif</td>\n",
       "    </tr>\n",
       "    <tr>\n",
       "      <th>2016-08-13</th>\n",
       "      <td>Edinburgh</td>\n",
       "      <td>2016-08-13</td>\n",
       "      <td>16</td>\n",
       "      <td>11</td>\n",
       "      <td>C</td>\n",
       "      <td>Mostly Cloudy</td>\n",
       "      <td>http://icons.wxug.com/i/c/k/mostlycloudy.gif</td>\n",
       "    </tr>\n",
       "    <tr>\n",
       "      <th>2016-08-14</th>\n",
       "      <td>Edinburgh</td>\n",
       "      <td>2016-08-14</td>\n",
       "      <td>17</td>\n",
       "      <td>9</td>\n",
       "      <td>C</td>\n",
       "      <td>Partly Cloudy</td>\n",
       "      <td>http://icons.wxug.com/i/c/k/partlycloudy.gif</td>\n",
       "    </tr>\n",
       "    <tr>\n",
       "      <th>...</th>\n",
       "      <td>...</td>\n",
       "      <td>...</td>\n",
       "      <td>...</td>\n",
       "      <td>...</td>\n",
       "      <td>...</td>\n",
       "      <td>...</td>\n",
       "      <td>...</td>\n",
       "    </tr>\n",
       "    <tr>\n",
       "      <th>2018-12-29</th>\n",
       "      <td>EastLothian</td>\n",
       "      <td>2018-12-27</td>\n",
       "      <td>11</td>\n",
       "      <td>8</td>\n",
       "      <td>C</td>\n",
       "      <td>Partly Cloudy</td>\n",
       "      <td>http://icons.wxug.com/i/c/k/partlycloudy.gif</td>\n",
       "    </tr>\n",
       "    <tr>\n",
       "      <th>2018-12-30</th>\n",
       "      <td>EastLothian</td>\n",
       "      <td>2018-12-27</td>\n",
       "      <td>11</td>\n",
       "      <td>7</td>\n",
       "      <td>C</td>\n",
       "      <td>Partly Cloudy</td>\n",
       "      <td>http://icons.wxug.com/i/c/k/partlycloudy.gif</td>\n",
       "    </tr>\n",
       "    <tr>\n",
       "      <th>2018-12-28</th>\n",
       "      <td>Fife</td>\n",
       "      <td>2018-12-27</td>\n",
       "      <td>10</td>\n",
       "      <td>6</td>\n",
       "      <td>C</td>\n",
       "      <td>Partly Cloudy</td>\n",
       "      <td>http://icons.wxug.com/i/c/k/partlycloudy.gif</td>\n",
       "    </tr>\n",
       "    <tr>\n",
       "      <th>2018-12-29</th>\n",
       "      <td>Fife</td>\n",
       "      <td>2018-12-27</td>\n",
       "      <td>11</td>\n",
       "      <td>7</td>\n",
       "      <td>C</td>\n",
       "      <td>Chance of Rain</td>\n",
       "      <td>http://icons.wxug.com/i/c/k/chancerain.gif</td>\n",
       "    </tr>\n",
       "    <tr>\n",
       "      <th>2018-12-30</th>\n",
       "      <td>Fife</td>\n",
       "      <td>2018-12-27</td>\n",
       "      <td>11</td>\n",
       "      <td>7</td>\n",
       "      <td>C</td>\n",
       "      <td>Partly Cloudy</td>\n",
       "      <td>http://icons.wxug.com/i/c/k/partlycloudy.gif</td>\n",
       "    </tr>\n",
       "  </tbody>\n",
       "</table>\n",
       "<p>2094 rows × 7 columns</p>\n",
       "</div>"
      ],
      "text/plain": [
       "                  locationid dateforecastmade  maxtemp  mintemp tempunit  \\\n",
       "dateforecastfor                                                            \n",
       "2016-08-10         Edinburgh       2016-08-10       13       12        C   \n",
       "2016-08-11         Edinburgh       2016-08-11       17       14        C   \n",
       "2016-08-12         Edinburgh       2016-08-12       17       12        C   \n",
       "2016-08-13         Edinburgh       2016-08-13       16       11        C   \n",
       "2016-08-14         Edinburgh       2016-08-14       17        9        C   \n",
       "...                      ...              ...      ...      ...      ...   \n",
       "2018-12-29       EastLothian       2018-12-27       11        8        C   \n",
       "2018-12-30       EastLothian       2018-12-27       11        7        C   \n",
       "2018-12-28              Fife       2018-12-27       10        6        C   \n",
       "2018-12-29              Fife       2018-12-27       11        7        C   \n",
       "2018-12-30              Fife       2018-12-27       11        7        C   \n",
       "\n",
       "                     conditions                                conditionsicon  \n",
       "dateforecastfor                                                                \n",
       "2016-08-10                 Rain          http://icons.wxug.com/i/c/k/rain.gif  \n",
       "2016-08-11       Chance of Rain    http://icons.wxug.com/i/c/k/chancerain.gif  \n",
       "2016-08-12       Chance of Rain    http://icons.wxug.com/i/c/k/chancerain.gif  \n",
       "2016-08-13        Mostly Cloudy  http://icons.wxug.com/i/c/k/mostlycloudy.gif  \n",
       "2016-08-14        Partly Cloudy  http://icons.wxug.com/i/c/k/partlycloudy.gif  \n",
       "...                         ...                                           ...  \n",
       "2018-12-29        Partly Cloudy  http://icons.wxug.com/i/c/k/partlycloudy.gif  \n",
       "2018-12-30        Partly Cloudy  http://icons.wxug.com/i/c/k/partlycloudy.gif  \n",
       "2018-12-28        Partly Cloudy  http://icons.wxug.com/i/c/k/partlycloudy.gif  \n",
       "2018-12-29       Chance of Rain    http://icons.wxug.com/i/c/k/chancerain.gif  \n",
       "2018-12-30        Partly Cloudy  http://icons.wxug.com/i/c/k/partlycloudy.gif  \n",
       "\n",
       "[2094 rows x 7 columns]"
      ]
     },
     "execution_count": 17,
     "metadata": {},
     "output_type": "execute_result"
    }
   ],
   "source": [
    "weather_data"
   ]
  },
  {
   "cell_type": "code",
   "execution_count": 14,
   "metadata": {},
   "outputs": [
    {
     "name": "stdout",
     "output_type": "stream",
     "text": [
      "Percantage of rows with weather forecast for the same date: 39.06%\n"
     ]
    }
   ],
   "source": [
    "print(f\"Percantage of rows with weather forecast for the same date: {(len(weather_data[weather_data['dateforecastfor'] == weather_data['dateforecastmade']])/len(weather_data))*100:.2f}%\")"
   ]
  },
  {
   "cell_type": "code",
   "execution_count": 6,
   "metadata": {},
   "outputs": [
    {
     "name": "stdout",
     "output_type": "stream",
     "text": [
      "locationid\n",
      "Edinburgh      818\n",
      "WestLothian    341\n",
      "Midlothian     332\n",
      "EastLothian    304\n",
      "Fife           299\n",
      "Name: count, dtype: int64\n"
     ]
    }
   ],
   "source": [
    "print(weather_data['locationid'].value_counts())"
   ]
  },
  {
   "cell_type": "code",
   "execution_count": 18,
   "metadata": {},
   "outputs": [
    {
     "name": "stdout",
     "output_type": "stream",
     "text": [
      "conditions\n",
      "Partly Cloudy               691\n",
      "Chance of Rain              603\n",
      "Clear                       263\n",
      "Rain                        184\n",
      "Mostly Cloudy               149\n",
      "Overcast                    140\n",
      "Snow                         31\n",
      "Snow Showers                 12\n",
      "Fog                          10\n",
      "Thunderstorm                  4\n",
      "Chance of Snow                3\n",
      "Chance of a Thunderstorm      2\n",
      "Ice Pellets                   2\n",
      "Name: count, dtype: int64\n"
     ]
    }
   ],
   "source": [
    "print(weather_data['conditions'].value_counts())"
   ]
  },
  {
   "cell_type": "code",
   "execution_count": 77,
   "metadata": {},
   "outputs": [
    {
     "data": {
      "text/plain": [
       "DatetimeIndex(['2016-08-10', '2016-08-11', '2016-08-12', '2016-08-13',\n",
       "               '2016-08-14', '2016-08-15', '2016-08-16', '2016-08-17',\n",
       "               '2016-08-18', '2016-08-19',\n",
       "               ...\n",
       "               '2018-12-30', '2018-12-28', '2018-12-29', '2018-12-30',\n",
       "               '2018-12-28', '2018-12-29', '2018-12-30', '2018-12-28',\n",
       "               '2018-12-29', '2018-12-30'],\n",
       "              dtype='datetime64[ns]', name='dateforecastfor', length=2094, freq=None)"
      ]
     },
     "execution_count": 77,
     "metadata": {},
     "output_type": "execute_result"
    }
   ],
   "source": [
    "weather_data.index"
   ]
  },
  {
   "cell_type": "code",
   "execution_count": 92,
   "metadata": {},
   "outputs": [
    {
     "data": {
      "text/plain": [
       "pandas.core.indexes.datetimes.DatetimeIndex"
      ]
     },
     "execution_count": 92,
     "metadata": {},
     "output_type": "execute_result"
    }
   ],
   "source": [
    "type(weather_data.index)"
   ]
  },
  {
   "cell_type": "code",
   "execution_count": 19,
   "metadata": {},
   "outputs": [],
   "source": [
    "weather_data = weather_data.sort_index()"
   ]
  },
  {
   "cell_type": "code",
   "execution_count": 20,
   "metadata": {},
   "outputs": [
    {
     "data": {
      "text/html": [
       "<div>\n",
       "<style scoped>\n",
       "    .dataframe tbody tr th:only-of-type {\n",
       "        vertical-align: middle;\n",
       "    }\n",
       "\n",
       "    .dataframe tbody tr th {\n",
       "        vertical-align: top;\n",
       "    }\n",
       "\n",
       "    .dataframe thead th {\n",
       "        text-align: right;\n",
       "    }\n",
       "</style>\n",
       "<table border=\"1\" class=\"dataframe\">\n",
       "  <thead>\n",
       "    <tr style=\"text-align: right;\">\n",
       "      <th></th>\n",
       "      <th>locationid</th>\n",
       "      <th>dateforecastmade</th>\n",
       "      <th>maxtemp</th>\n",
       "      <th>mintemp</th>\n",
       "      <th>tempunit</th>\n",
       "      <th>conditions</th>\n",
       "      <th>conditionsicon</th>\n",
       "    </tr>\n",
       "    <tr>\n",
       "      <th>dateforecastfor</th>\n",
       "      <th></th>\n",
       "      <th></th>\n",
       "      <th></th>\n",
       "      <th></th>\n",
       "      <th></th>\n",
       "      <th></th>\n",
       "      <th></th>\n",
       "    </tr>\n",
       "  </thead>\n",
       "  <tbody>\n",
       "    <tr>\n",
       "      <th>2016-08-10</th>\n",
       "      <td>Edinburgh</td>\n",
       "      <td>2016-08-10</td>\n",
       "      <td>13</td>\n",
       "      <td>12</td>\n",
       "      <td>C</td>\n",
       "      <td>Rain</td>\n",
       "      <td>http://icons.wxug.com/i/c/k/rain.gif</td>\n",
       "    </tr>\n",
       "    <tr>\n",
       "      <th>2016-08-11</th>\n",
       "      <td>Edinburgh</td>\n",
       "      <td>2016-08-11</td>\n",
       "      <td>17</td>\n",
       "      <td>14</td>\n",
       "      <td>C</td>\n",
       "      <td>Chance of Rain</td>\n",
       "      <td>http://icons.wxug.com/i/c/k/chancerain.gif</td>\n",
       "    </tr>\n",
       "    <tr>\n",
       "      <th>2016-08-12</th>\n",
       "      <td>Edinburgh</td>\n",
       "      <td>2016-08-12</td>\n",
       "      <td>17</td>\n",
       "      <td>12</td>\n",
       "      <td>C</td>\n",
       "      <td>Chance of Rain</td>\n",
       "      <td>http://icons.wxug.com/i/c/k/chancerain.gif</td>\n",
       "    </tr>\n",
       "    <tr>\n",
       "      <th>2016-08-13</th>\n",
       "      <td>Edinburgh</td>\n",
       "      <td>2016-08-13</td>\n",
       "      <td>16</td>\n",
       "      <td>11</td>\n",
       "      <td>C</td>\n",
       "      <td>Mostly Cloudy</td>\n",
       "      <td>http://icons.wxug.com/i/c/k/mostlycloudy.gif</td>\n",
       "    </tr>\n",
       "    <tr>\n",
       "      <th>2016-08-14</th>\n",
       "      <td>Edinburgh</td>\n",
       "      <td>2016-08-14</td>\n",
       "      <td>17</td>\n",
       "      <td>9</td>\n",
       "      <td>C</td>\n",
       "      <td>Partly Cloudy</td>\n",
       "      <td>http://icons.wxug.com/i/c/k/partlycloudy.gif</td>\n",
       "    </tr>\n",
       "    <tr>\n",
       "      <th>2016-08-15</th>\n",
       "      <td>Edinburgh</td>\n",
       "      <td>2016-08-15</td>\n",
       "      <td>19</td>\n",
       "      <td>11</td>\n",
       "      <td>C</td>\n",
       "      <td>Clear</td>\n",
       "      <td>http://icons.wxug.com/i/c/k/clear.gif</td>\n",
       "    </tr>\n",
       "    <tr>\n",
       "      <th>2016-08-16</th>\n",
       "      <td>Edinburgh</td>\n",
       "      <td>2016-08-16</td>\n",
       "      <td>21</td>\n",
       "      <td>10</td>\n",
       "      <td>C</td>\n",
       "      <td>Partly Cloudy</td>\n",
       "      <td>http://icons.wxug.com/i/c/k/partlycloudy.gif</td>\n",
       "    </tr>\n",
       "    <tr>\n",
       "      <th>2016-08-17</th>\n",
       "      <td>Edinburgh</td>\n",
       "      <td>2016-08-17</td>\n",
       "      <td>20</td>\n",
       "      <td>11</td>\n",
       "      <td>C</td>\n",
       "      <td>Fog</td>\n",
       "      <td>http://icons.wxug.com/i/c/k/fog.gif</td>\n",
       "    </tr>\n",
       "    <tr>\n",
       "      <th>2016-08-18</th>\n",
       "      <td>Edinburgh</td>\n",
       "      <td>2016-08-18</td>\n",
       "      <td>20</td>\n",
       "      <td>11</td>\n",
       "      <td>C</td>\n",
       "      <td>Clear</td>\n",
       "      <td>http://icons.wxug.com/i/c/k/clear.gif</td>\n",
       "    </tr>\n",
       "    <tr>\n",
       "      <th>2016-08-19</th>\n",
       "      <td>Edinburgh</td>\n",
       "      <td>2016-08-19</td>\n",
       "      <td>16</td>\n",
       "      <td>12</td>\n",
       "      <td>C</td>\n",
       "      <td>Chance of Rain</td>\n",
       "      <td>http://icons.wxug.com/i/c/k/chancerain.gif</td>\n",
       "    </tr>\n",
       "    <tr>\n",
       "      <th>2016-08-20</th>\n",
       "      <td>Edinburgh</td>\n",
       "      <td>2016-08-20</td>\n",
       "      <td>17</td>\n",
       "      <td>11</td>\n",
       "      <td>C</td>\n",
       "      <td>Partly Cloudy</td>\n",
       "      <td>http://icons.wxug.com/i/c/k/partlycloudy.gif</td>\n",
       "    </tr>\n",
       "    <tr>\n",
       "      <th>2016-08-21</th>\n",
       "      <td>Edinburgh</td>\n",
       "      <td>2016-08-21</td>\n",
       "      <td>18</td>\n",
       "      <td>13</td>\n",
       "      <td>C</td>\n",
       "      <td>Chance of Rain</td>\n",
       "      <td>http://icons.wxug.com/i/c/k/chancerain.gif</td>\n",
       "    </tr>\n",
       "    <tr>\n",
       "      <th>2016-08-22</th>\n",
       "      <td>Edinburgh</td>\n",
       "      <td>2016-08-22</td>\n",
       "      <td>20</td>\n",
       "      <td>10</td>\n",
       "      <td>C</td>\n",
       "      <td>Chance of Rain</td>\n",
       "      <td>http://icons.wxug.com/i/c/k/chancerain.gif</td>\n",
       "    </tr>\n",
       "    <tr>\n",
       "      <th>2016-08-23</th>\n",
       "      <td>Edinburgh</td>\n",
       "      <td>2016-08-23</td>\n",
       "      <td>17</td>\n",
       "      <td>11</td>\n",
       "      <td>C</td>\n",
       "      <td>Mostly Cloudy</td>\n",
       "      <td>http://icons.wxug.com/i/c/k/mostlycloudy.gif</td>\n",
       "    </tr>\n",
       "    <tr>\n",
       "      <th>2016-08-24</th>\n",
       "      <td>Edinburgh</td>\n",
       "      <td>2016-08-24</td>\n",
       "      <td>21</td>\n",
       "      <td>10</td>\n",
       "      <td>C</td>\n",
       "      <td>Clear</td>\n",
       "      <td>http://icons.wxug.com/i/c/k/clear.gif</td>\n",
       "    </tr>\n",
       "    <tr>\n",
       "      <th>2016-08-25</th>\n",
       "      <td>Edinburgh</td>\n",
       "      <td>2016-08-25</td>\n",
       "      <td>14</td>\n",
       "      <td>12</td>\n",
       "      <td>C</td>\n",
       "      <td>Partly Cloudy</td>\n",
       "      <td>http://icons.wxug.com/i/c/k/partlycloudy.gif</td>\n",
       "    </tr>\n",
       "    <tr>\n",
       "      <th>2016-08-26</th>\n",
       "      <td>Edinburgh</td>\n",
       "      <td>2016-08-26</td>\n",
       "      <td>18</td>\n",
       "      <td>11</td>\n",
       "      <td>C</td>\n",
       "      <td>Partly Cloudy</td>\n",
       "      <td>http://icons.wxug.com/i/c/k/partlycloudy.gif</td>\n",
       "    </tr>\n",
       "    <tr>\n",
       "      <th>2016-08-27</th>\n",
       "      <td>Edinburgh</td>\n",
       "      <td>2016-08-27</td>\n",
       "      <td>18</td>\n",
       "      <td>12</td>\n",
       "      <td>C</td>\n",
       "      <td>Rain</td>\n",
       "      <td>http://icons.wxug.com/i/c/k/rain.gif</td>\n",
       "    </tr>\n",
       "    <tr>\n",
       "      <th>2016-08-28</th>\n",
       "      <td>Edinburgh</td>\n",
       "      <td>2016-08-28</td>\n",
       "      <td>19</td>\n",
       "      <td>11</td>\n",
       "      <td>C</td>\n",
       "      <td>Chance of Rain</td>\n",
       "      <td>http://icons.wxug.com/i/c/k/chancerain.gif</td>\n",
       "    </tr>\n",
       "    <tr>\n",
       "      <th>2016-08-29</th>\n",
       "      <td>Edinburgh</td>\n",
       "      <td>2016-08-29</td>\n",
       "      <td>18</td>\n",
       "      <td>14</td>\n",
       "      <td>C</td>\n",
       "      <td>Partly Cloudy</td>\n",
       "      <td>http://icons.wxug.com/i/c/k/partlycloudy.gif</td>\n",
       "    </tr>\n",
       "    <tr>\n",
       "      <th>2016-08-30</th>\n",
       "      <td>Edinburgh</td>\n",
       "      <td>2016-08-30</td>\n",
       "      <td>21</td>\n",
       "      <td>14</td>\n",
       "      <td>C</td>\n",
       "      <td>Chance of Rain</td>\n",
       "      <td>http://icons.wxug.com/i/c/k/chancerain.gif</td>\n",
       "    </tr>\n",
       "    <tr>\n",
       "      <th>2016-08-31</th>\n",
       "      <td>Edinburgh</td>\n",
       "      <td>2016-08-31</td>\n",
       "      <td>16</td>\n",
       "      <td>11</td>\n",
       "      <td>C</td>\n",
       "      <td>Overcast</td>\n",
       "      <td>http://icons.wxug.com/i/c/k/cloudy.gif</td>\n",
       "    </tr>\n",
       "  </tbody>\n",
       "</table>\n",
       "</div>"
      ],
      "text/plain": [
       "                locationid dateforecastmade  maxtemp  mintemp tempunit  \\\n",
       "dateforecastfor                                                          \n",
       "2016-08-10       Edinburgh       2016-08-10       13       12        C   \n",
       "2016-08-11       Edinburgh       2016-08-11       17       14        C   \n",
       "2016-08-12       Edinburgh       2016-08-12       17       12        C   \n",
       "2016-08-13       Edinburgh       2016-08-13       16       11        C   \n",
       "2016-08-14       Edinburgh       2016-08-14       17        9        C   \n",
       "2016-08-15       Edinburgh       2016-08-15       19       11        C   \n",
       "2016-08-16       Edinburgh       2016-08-16       21       10        C   \n",
       "2016-08-17       Edinburgh       2016-08-17       20       11        C   \n",
       "2016-08-18       Edinburgh       2016-08-18       20       11        C   \n",
       "2016-08-19       Edinburgh       2016-08-19       16       12        C   \n",
       "2016-08-20       Edinburgh       2016-08-20       17       11        C   \n",
       "2016-08-21       Edinburgh       2016-08-21       18       13        C   \n",
       "2016-08-22       Edinburgh       2016-08-22       20       10        C   \n",
       "2016-08-23       Edinburgh       2016-08-23       17       11        C   \n",
       "2016-08-24       Edinburgh       2016-08-24       21       10        C   \n",
       "2016-08-25       Edinburgh       2016-08-25       14       12        C   \n",
       "2016-08-26       Edinburgh       2016-08-26       18       11        C   \n",
       "2016-08-27       Edinburgh       2016-08-27       18       12        C   \n",
       "2016-08-28       Edinburgh       2016-08-28       19       11        C   \n",
       "2016-08-29       Edinburgh       2016-08-29       18       14        C   \n",
       "2016-08-30       Edinburgh       2016-08-30       21       14        C   \n",
       "2016-08-31       Edinburgh       2016-08-31       16       11        C   \n",
       "\n",
       "                     conditions                                conditionsicon  \n",
       "dateforecastfor                                                                \n",
       "2016-08-10                 Rain          http://icons.wxug.com/i/c/k/rain.gif  \n",
       "2016-08-11       Chance of Rain    http://icons.wxug.com/i/c/k/chancerain.gif  \n",
       "2016-08-12       Chance of Rain    http://icons.wxug.com/i/c/k/chancerain.gif  \n",
       "2016-08-13        Mostly Cloudy  http://icons.wxug.com/i/c/k/mostlycloudy.gif  \n",
       "2016-08-14        Partly Cloudy  http://icons.wxug.com/i/c/k/partlycloudy.gif  \n",
       "2016-08-15                Clear         http://icons.wxug.com/i/c/k/clear.gif  \n",
       "2016-08-16        Partly Cloudy  http://icons.wxug.com/i/c/k/partlycloudy.gif  \n",
       "2016-08-17                  Fog           http://icons.wxug.com/i/c/k/fog.gif  \n",
       "2016-08-18                Clear         http://icons.wxug.com/i/c/k/clear.gif  \n",
       "2016-08-19       Chance of Rain    http://icons.wxug.com/i/c/k/chancerain.gif  \n",
       "2016-08-20        Partly Cloudy  http://icons.wxug.com/i/c/k/partlycloudy.gif  \n",
       "2016-08-21       Chance of Rain    http://icons.wxug.com/i/c/k/chancerain.gif  \n",
       "2016-08-22       Chance of Rain    http://icons.wxug.com/i/c/k/chancerain.gif  \n",
       "2016-08-23        Mostly Cloudy  http://icons.wxug.com/i/c/k/mostlycloudy.gif  \n",
       "2016-08-24                Clear         http://icons.wxug.com/i/c/k/clear.gif  \n",
       "2016-08-25        Partly Cloudy  http://icons.wxug.com/i/c/k/partlycloudy.gif  \n",
       "2016-08-26        Partly Cloudy  http://icons.wxug.com/i/c/k/partlycloudy.gif  \n",
       "2016-08-27                 Rain          http://icons.wxug.com/i/c/k/rain.gif  \n",
       "2016-08-28       Chance of Rain    http://icons.wxug.com/i/c/k/chancerain.gif  \n",
       "2016-08-29        Partly Cloudy  http://icons.wxug.com/i/c/k/partlycloudy.gif  \n",
       "2016-08-30       Chance of Rain    http://icons.wxug.com/i/c/k/chancerain.gif  \n",
       "2016-08-31             Overcast        http://icons.wxug.com/i/c/k/cloudy.gif  "
      ]
     },
     "execution_count": 20,
     "metadata": {},
     "output_type": "execute_result"
    }
   ],
   "source": [
    "weather_data['2016-08-01':'2016-08-31']\n"
   ]
  },
  {
   "cell_type": "code",
   "execution_count": 104,
   "metadata": {},
   "outputs": [
    {
     "data": {
      "text/plain": [
       "<Axes: xlabel='dateforecastfor'>"
      ]
     },
     "execution_count": 104,
     "metadata": {},
     "output_type": "execute_result"
    },
    {
     "data": {
      "image/png": "[encoded data removed]",
      "text/plain": [
       "<Figure size 640x480 with 1 Axes>"
      ]
     },
     "metadata": {},
     "output_type": "display_data"
    }
   ],
   "source": [
    "%matplotlib inline\n",
    "weather_data.mintemp.resample('Q').mean().plot()"
   ]
  },
  {
   "cell_type": "code",
   "execution_count": 105,
   "metadata": {},
   "outputs": [
    {
     "data": {
      "text/plain": [
       "<Axes: xlabel='dateforecastfor'>"
      ]
     },
     "execution_count": 105,
     "metadata": {},
     "output_type": "execute_result"
    },
    {
     "data": {
      "image/png": "[encoded data removed]",
      "text/plain": [
       "<Figure size 640x480 with 1 Axes>"
      ]
     },
     "metadata": {},
     "output_type": "display_data"
    }
   ],
   "source": [
    "weather_data.maxtemp.plot()"
   ]
  },
  {
   "cell_type": "code",
   "execution_count": 110,
   "metadata": {},
   "outputs": [],
   "source": [
    "import numpy as np\n",
    "\n",
    "random = pd.date_range(start='6/1/2020', end= '6/1/2021', freq='B')\n",
    "ts  = pd.Series(np.random.randint(1,10, len(random)), index = random)"
   ]
  },
  {
   "cell_type": "code",
   "execution_count": 111,
   "metadata": {},
   "outputs": [
    {
     "data": {
      "text/plain": [
       "2020-06-01    1\n",
       "2020-06-02    2\n",
       "2020-06-03    3\n",
       "2020-06-04    9\n",
       "2020-06-05    2\n",
       "             ..\n",
       "2021-05-26    1\n",
       "2021-05-27    1\n",
       "2021-05-28    7\n",
       "2021-05-31    5\n",
       "2021-06-01    3\n",
       "Freq: B, Length: 262, dtype: int32"
      ]
     },
     "execution_count": 111,
     "metadata": {},
     "output_type": "execute_result"
    }
   ],
   "source": [
    "ts"
   ]
  },
  {
   "cell_type": "code",
   "execution_count": 153,
   "metadata": {},
   "outputs": [],
   "source": [
    "from matplotlib import pyplot\n",
    "from statsmodels.tsa.ar_model import AutoReg"
   ]
  },
  {
   "cell_type": "code",
   "execution_count": 132,
   "metadata": {},
   "outputs": [],
   "source": [
    "max_temp = weather_data[['locationid', 'maxtemp']]"
   ]
  },
  {
   "cell_type": "code",
   "execution_count": 133,
   "metadata": {},
   "outputs": [
    {
     "data": {
      "text/html": [
       "<div>\n",
       "<style scoped>\n",
       "    .dataframe tbody tr th:only-of-type {\n",
       "        vertical-align: middle;\n",
       "    }\n",
       "\n",
       "    .dataframe tbody tr th {\n",
       "        vertical-align: top;\n",
       "    }\n",
       "\n",
       "    .dataframe thead th {\n",
       "        text-align: right;\n",
       "    }\n",
       "</style>\n",
       "<table border=\"1\" class=\"dataframe\">\n",
       "  <thead>\n",
       "    <tr style=\"text-align: right;\">\n",
       "      <th></th>\n",
       "      <th>locationid</th>\n",
       "      <th>maxtemp</th>\n",
       "    </tr>\n",
       "    <tr>\n",
       "      <th>dateforecastfor</th>\n",
       "      <th></th>\n",
       "      <th></th>\n",
       "    </tr>\n",
       "  </thead>\n",
       "  <tbody>\n",
       "    <tr>\n",
       "      <th>2016-08-10</th>\n",
       "      <td>Edinburgh</td>\n",
       "      <td>13</td>\n",
       "    </tr>\n",
       "    <tr>\n",
       "      <th>2016-08-11</th>\n",
       "      <td>Edinburgh</td>\n",
       "      <td>17</td>\n",
       "    </tr>\n",
       "    <tr>\n",
       "      <th>2016-08-12</th>\n",
       "      <td>Edinburgh</td>\n",
       "      <td>17</td>\n",
       "    </tr>\n",
       "    <tr>\n",
       "      <th>2016-08-13</th>\n",
       "      <td>Edinburgh</td>\n",
       "      <td>16</td>\n",
       "    </tr>\n",
       "    <tr>\n",
       "      <th>2016-08-14</th>\n",
       "      <td>Edinburgh</td>\n",
       "      <td>17</td>\n",
       "    </tr>\n",
       "    <tr>\n",
       "      <th>...</th>\n",
       "      <td>...</td>\n",
       "      <td>...</td>\n",
       "    </tr>\n",
       "    <tr>\n",
       "      <th>2018-12-30</th>\n",
       "      <td>EastLothian</td>\n",
       "      <td>11</td>\n",
       "    </tr>\n",
       "    <tr>\n",
       "      <th>2018-12-30</th>\n",
       "      <td>Edinburgh</td>\n",
       "      <td>11</td>\n",
       "    </tr>\n",
       "    <tr>\n",
       "      <th>2018-12-30</th>\n",
       "      <td>WestLothian</td>\n",
       "      <td>9</td>\n",
       "    </tr>\n",
       "    <tr>\n",
       "      <th>2018-12-30</th>\n",
       "      <td>Midlothian</td>\n",
       "      <td>10</td>\n",
       "    </tr>\n",
       "    <tr>\n",
       "      <th>2018-12-30</th>\n",
       "      <td>Fife</td>\n",
       "      <td>11</td>\n",
       "    </tr>\n",
       "  </tbody>\n",
       "</table>\n",
       "<p>2094 rows × 2 columns</p>\n",
       "</div>"
      ],
      "text/plain": [
       "                  locationid  maxtemp\n",
       "dateforecastfor                      \n",
       "2016-08-10         Edinburgh       13\n",
       "2016-08-11         Edinburgh       17\n",
       "2016-08-12         Edinburgh       17\n",
       "2016-08-13         Edinburgh       16\n",
       "2016-08-14         Edinburgh       17\n",
       "...                      ...      ...\n",
       "2018-12-30       EastLothian       11\n",
       "2018-12-30         Edinburgh       11\n",
       "2018-12-30       WestLothian        9\n",
       "2018-12-30        Midlothian       10\n",
       "2018-12-30              Fife       11\n",
       "\n",
       "[2094 rows x 2 columns]"
      ]
     },
     "execution_count": 133,
     "metadata": {},
     "output_type": "execute_result"
    }
   ],
   "source": [
    "max_temp"
   ]
  },
  {
   "cell_type": "code",
   "execution_count": 141,
   "metadata": {},
   "outputs": [],
   "source": [
    "max_temp_edin = max_temp[max_temp['locationid'] == 'Edinburgh']"
   ]
  },
  {
   "cell_type": "code",
   "execution_count": 156,
   "metadata": {},
   "outputs": [],
   "source": [
    "max_temp_edin = max_temp_edin.drop(columns= 'locationid')"
   ]
  },
  {
   "cell_type": "code",
   "execution_count": 168,
   "metadata": {},
   "outputs": [],
   "source": [
    "temps = max_temp_edin.values"
   ]
  },
  {
   "cell_type": "markdown",
   "metadata": {},
   "source": [
    "Check for Stationarity"
   ]
  },
  {
   "cell_type": "code",
   "execution_count": 146,
   "metadata": {},
   "outputs": [
    {
     "data": {
      "text/plain": [
       "<Axes: xlabel='dateforecastfor'>"
      ]
     },
     "execution_count": 146,
     "metadata": {},
     "output_type": "execute_result"
    },
    {
     "data": {
      "image/png": "[encoded data removed]",
      "text/plain": [
       "<Figure size 640x480 with 1 Axes>"
      ]
     },
     "metadata": {},
     "output_type": "display_data"
    }
   ],
   "source": [
    "max_temp_edin.plot()"
   ]
  },
  {
   "cell_type": "code",
   "execution_count": 149,
   "metadata": {},
   "outputs": [
    {
     "name": "stdout",
     "output_type": "stream",
     "text": [
      " P-value: 0.28963418239612043\n",
      "Number of Lags used: 14\n"
     ]
    }
   ],
   "source": [
    "from statsmodels.tsa.stattools import adfuller\n",
    "\n",
    "max_temp_edin_test = adfuller(max_temp_edin['maxtemp'], autolag= 'AIC')\n",
    "\n",
    "print(f' P-value: {max_temp_edin_test[1]}')\n",
    "print(f'Number of Lags used: {max_temp_edin_test[2]}')"
   ]
  },
  {
   "cell_type": "code",
   "execution_count": 150,
   "metadata": {},
   "outputs": [
    {
     "data": {
      "image/png": "[encoded data removed]",
      "text/plain": [
       "<Figure size 640x480 with 1 Axes>"
      ]
     },
     "metadata": {},
     "output_type": "display_data"
    },
    {
     "data": {
      "image/png": "[encoded data removed]",
      "text/plain": [
       "<Figure size 640x480 with 1 Axes>"
      ]
     },
     "metadata": {},
     "output_type": "display_data"
    }
   ],
   "source": [
    "from statsmodels.graphics.tsaplots import plot_pacf, plot_acf\n",
    "pacf = plot_pacf(max_temp_edin['maxtemp'], lags = 25)\n",
    "acf = plot_acf(max_temp_edin['maxtemp'], lags= 25) "
   ]
  },
  {
   "cell_type": "code",
   "execution_count": 169,
   "metadata": {},
   "outputs": [],
   "source": [
    "# split dataset into train and test\n",
    "train = temps[:len(temps)-7]\n",
    "test = temps[len(temps)-7:]"
   ]
  },
  {
   "cell_type": "code",
   "execution_count": 170,
   "metadata": {},
   "outputs": [
    {
     "data": {
      "text/plain": [
       "array([[ 2],\n",
       "       [ 9],\n",
       "       [10],\n",
       "       [10],\n",
       "       [10],\n",
       "       [11],\n",
       "       [11]], dtype=int64)"
      ]
     },
     "execution_count": 170,
     "metadata": {},
     "output_type": "execute_result"
    }
   ],
   "source": [
    "test"
   ]
  },
  {
   "cell_type": "code",
   "execution_count": 175,
   "metadata": {},
   "outputs": [],
   "source": [
    "model = AutoReg(train, lags = 10).fit()"
   ]
  },
  {
   "cell_type": "code",
   "execution_count": 176,
   "metadata": {},
   "outputs": [
    {
     "name": "stdout",
     "output_type": "stream",
     "text": [
      "                            AutoReg Model Results                             \n",
      "==============================================================================\n",
      "Dep. Variable:                      y   No. Observations:                  811\n",
      "Model:                    AutoReg(10)   Log Likelihood               -1906.442\n",
      "Method:               Conditional MLE   S.D. of innovations              2.615\n",
      "Date:                Tue, 29 Oct 2024   AIC                           3836.884\n",
      "Time:                        21:45:37   BIC                           3893.114\n",
      "Sample:                            10   HQIC                          3858.484\n",
      "                                  811                                         \n",
      "==============================================================================\n",
      "                 coef    std err          z      P>|z|      [0.025      0.975]\n",
      "------------------------------------------------------------------------------\n",
      "const          0.5557      0.251      2.213      0.027       0.064       1.048\n",
      "y.L1           0.6034      0.035     17.176      0.000       0.535       0.672\n",
      "y.L2           0.1126      0.041      2.741      0.006       0.032       0.193\n",
      "y.L3          -0.0270      0.041     -0.654      0.513      -0.108       0.054\n",
      "y.L4           0.0666      0.041      1.615      0.106      -0.014       0.147\n",
      "y.L5           0.0234      0.041      0.568      0.570      -0.057       0.104\n",
      "y.L6           0.0537      0.041      1.300      0.194      -0.027       0.135\n",
      "y.L7           0.0019      0.041      0.046      0.963      -0.079       0.083\n",
      "y.L8           0.0495      0.041      1.199      0.231      -0.031       0.130\n",
      "y.L9          -0.0336      0.041     -0.816      0.414      -0.114       0.047\n",
      "y.L10          0.1034      0.035      2.943      0.003       0.035       0.172\n",
      "                                    Roots                                     \n",
      "==============================================================================\n",
      "                   Real          Imaginary           Modulus         Frequency\n",
      "------------------------------------------------------------------------------\n",
      "AR.1             1.0170           -0.0000j            1.0170           -0.0000\n",
      "AR.2             1.0529           -0.6750j            1.2507           -0.0907\n",
      "AR.3             1.0529           +0.6750j            1.2507            0.0907\n",
      "AR.4            -1.2265           -0.0000j            1.2265           -0.5000\n",
      "AR.5            -1.0093           -0.8172j            1.2986           -0.3917\n",
      "AR.6            -1.0093           +0.8172j            1.2986            0.3917\n",
      "AR.7             0.5243           -1.1808j            1.2920           -0.1835\n",
      "AR.8             0.5243           +1.1808j            1.2920            0.1835\n",
      "AR.9            -0.3009           -1.2922j            1.3268           -0.2864\n",
      "AR.10           -0.3009           +1.2922j            1.3268            0.2864\n",
      "------------------------------------------------------------------------------\n"
     ]
    }
   ],
   "source": [
    "print(model.summary())"
   ]
  },
  {
   "cell_type": "code",
   "execution_count": 179,
   "metadata": {},
   "outputs": [],
   "source": [
    "pred = model.predict(start = len(train), end = len(temps)-1, dynamic=False)"
   ]
  },
  {
   "cell_type": "code",
   "execution_count": 180,
   "metadata": {},
   "outputs": [
    {
     "name": "stdout",
     "output_type": "stream",
     "text": [
      "[6.90600979 6.85402497 7.41934177 7.55069936 7.98889983 8.07297988\n",
      " 8.01031968]\n"
     ]
    },
    {
     "data": {
      "image/png": "[encoded data removed]",
      "text/plain": [
       "<Figure size 640x480 with 1 Axes>"
      ]
     },
     "metadata": {},
     "output_type": "display_data"
    }
   ],
   "source": [
    "pyplot.plot(pred)\n",
    "pyplot.plot(test, color = 'red')\n",
    "print(pred)"
   ]
  },
  {
   "cell_type": "code",
   "execution_count": 181,
   "metadata": {},
   "outputs": [],
   "source": [
    "from math import sqrt\n",
    "from sklearn.metrics import mean_squared_error\n",
    "\n",
    "rmse = sqrt(mean_squared_error(test, pred))"
   ]
  },
  {
   "cell_type": "code",
   "execution_count": 182,
   "metadata": {},
   "outputs": [
    {
     "name": "stdout",
     "output_type": "stream",
     "text": [
      "2.9972170552167907\n"
     ]
    }
   ],
   "source": [
    "print(rmse)"
   ]
  },
  {
   "cell_type": "code",
   "execution_count": 184,
   "metadata": {},
   "outputs": [],
   "source": [
    "# future predictions\n",
    "pred_future = model.predict(start = len(temps)+1, end= len(temps)+7, dynamic = False)"
   ]
  },
  {
   "cell_type": "code",
   "execution_count": 185,
   "metadata": {},
   "outputs": [
    {
     "name": "stdout",
     "output_type": "stream",
     "text": [
      "next week predictions: [8.15180836 8.03025722 8.11987457 8.14109905 8.24985726 8.31314518\n",
      " 8.41388317]\n"
     ]
    }
   ],
   "source": [
    "print(f'next week predictions: {pred_future}')"
   ]
  }
 ],
 "metadata": {
  "kernelspec": {
   "display_name": "base",
   "language": "python",
   "name": "python3"
  },
  "language_info": {
   "codemirror_mode": {
    "name": "ipython",
    "version": 3
   },
   "file_extension": ".py",
   "mimetype": "text/x-python",
   "name": "python",
   "nbconvert_exporter": "python",
   "pygments_lexer": "ipython3",
   "version": "3.11.7"
  }
 },
 "nbformat": 4,
 "nbformat_minor": 2
}
